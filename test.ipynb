{
 "cells": [
  {
   "cell_type": "code",
   "execution_count": 20,
   "metadata": {},
   "outputs": [],
   "source": [
    "jdata = {\n",
    "    'updated_at' : '2023-03-16T07:25:30Z', \n",
    "    'last_entry_id': 370}\n"
   ]
  },
  {
   "cell_type": "code",
   "execution_count": 21,
   "metadata": {},
   "outputs": [
    {
     "name": "stdout",
     "output_type": "stream",
     "text": [
      "['2023', '03', '16']\n",
      "16/03/2023\n"
     ]
    }
   ],
   "source": [
    "date = jdata['updated_at'][0:10].split(\"-\")\n",
    "date_str = \"{}/{}/{}\".format(date[2],date[1],date[0])\n",
    "# date = jdata['update_at']\n",
    "\n",
    "print(date)\n",
    "print(date_str)"
   ]
  },
  {
   "cell_type": "code",
   "execution_count": 26,
   "metadata": {},
   "outputs": [
    {
     "name": "stdout",
     "output_type": "stream",
     "text": [
      "07:25:30\n",
      "14:25:30\n"
     ]
    }
   ],
   "source": [
    "from datetime import datetime, timedelta\n",
    "\n",
    "time_str = jdata['updated_at'][11:-1]\n",
    "print(time_str)\n",
    "time = (datetime.strptime(time_str, \"%H:%M:%S\") + timedelta(hours=7)).strftime(\"%X\")\n",
    "# time = time.strftime(\"%X\")\n",
    "print(time)\n"
   ]
  },
  {
   "cell_type": "code",
   "execution_count": null,
   "metadata": {},
   "outputs": [],
   "source": []
  }
 ],
 "metadata": {
  "kernelspec": {
   "display_name": "Python 3",
   "language": "python",
   "name": "python3"
  },
  "language_info": {
   "codemirror_mode": {
    "name": "ipython",
    "version": 3
   },
   "file_extension": ".py",
   "mimetype": "text/x-python",
   "name": "python",
   "nbconvert_exporter": "python",
   "pygments_lexer": "ipython3",
   "version": "3.10.10"
  },
  "orig_nbformat": 4,
  "vscode": {
   "interpreter": {
    "hash": "a42ccb73e7d9bfdf27e036f1d2b8b681e55fc0743cc5586bc2474d4a60f4b886"
   }
  }
 },
 "nbformat": 4,
 "nbformat_minor": 2
}
